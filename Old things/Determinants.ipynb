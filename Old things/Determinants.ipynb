{
 "cells": [
  {
   "cell_type": "markdown",
   "id": "02245e41-fda1-45ae-ae12-65262b0be3d3",
   "metadata": {},
   "source": [
    "# Determinant Calculation with Gauss Jordan\n"
   ]
  },
  {
   "cell_type": "code",
   "execution_count": null,
   "id": "ec2549f9-d8af-4d41-b3c4-1c3e5d5e7f72",
   "metadata": {},
   "outputs": [],
   "source": [
    "function LUDecomposition(A::Matrix)\n",
    "    \"\"\"\n",
    "    Given a matrix A, return \n",
    "    \"\"\"\n",
    "    "
   ]
  }
 ],
 "metadata": {
  "kernelspec": {
   "display_name": "Julia 1.6.2",
   "language": "julia",
   "name": "julia-1.6"
  },
  "language_info": {
   "file_extension": ".jl",
   "mimetype": "application/julia",
   "name": "julia",
   "version": "1.6.2"
  }
 },
 "nbformat": 4,
 "nbformat_minor": 5
}
