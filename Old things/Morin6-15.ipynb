{
 "cells": [
  {
   "cell_type": "code",
   "execution_count": 26,
   "id": "a408632a-a7dd-4afb-a2b2-ac92279df00f",
   "metadata": {},
   "outputs": [
    {
     "data": {
      "image/png": "[encoded data removed]",
      "text/plain": [
       "<Figure size 432x288 with 1 Axes>"
      ]
     },
     "metadata": {
      "needs_background": "light"
     },
     "output_type": "display_data"
    }
   ],
   "source": [
    "import numpy as np\n",
    "import matplotlib.pyplot as plt\n",
    "\n",
    "def f(n):\n",
    "    l = n + 1\n",
    "    sum_val = 0. # naming it sum doesn't work because python has a function called sum.\n",
    "    \n",
    "    while l <= 2*n:\n",
    "        sum_val = sum_val + (1/l)\n",
    "        l += 1\n",
    "    return sum_val\n",
    "\n",
    "\n",
    "# Below is for plotting\n",
    "nFirst = 2\n",
    "nLast = 150\n",
    "nArray = np.arange(nFirst, nLast) # this gives you an array of 2, 3, 4, ..., 150. That will change if you replace nFirst and nLast!\n",
    "fArray = np.zeros(nLast - nFirst) # We have a total of nLast - nFirst output values, so I'm making an array to store them.\n",
    "\n",
    "i = 0 # python starts at 0\n",
    "for n in nArray: # for every value of n\n",
    "    fn = f(n) # compute the value f(n)\n",
    "    fArray[i] = fn # for every i, I put in the value into this fArray\n",
    "    i += 1\n",
    "\n",
    "plt.plot(nArray, fArray)\n",
    "plt.show()\n"
   ]
  },
  {
   "cell_type": "code",
   "execution_count": 28,
   "id": "c6e411ff-d993-4872-8283-9ef5497ee0a9",
   "metadata": {},
   "outputs": [
    {
     "data": {
      "text/plain": [
       "0.5"
      ]
     },
     "execution_count": 28,
     "metadata": {},
     "output_type": "execute_result"
    }
   ],
   "source": [
    "f(1)"
   ]
  },
  {
   "cell_type": "code",
   "execution_count": 29,
   "id": "53c4b778-1920-42c6-a447-9f8780a9f416",
   "metadata": {},
   "outputs": [
    {
     "data": {
      "text/plain": [
       "0.5833333333333333"
      ]
     },
     "execution_count": 29,
     "metadata": {},
     "output_type": "execute_result"
    }
   ],
   "source": [
    "f(2)"
   ]
  },
  {
   "cell_type": "code",
   "execution_count": 30,
   "id": "38eb1241-eec4-4787-94a7-d297ce96c365",
   "metadata": {},
   "outputs": [
    {
     "data": {
      "text/plain": [
       "0.5833333333333334"
      ]
     },
     "execution_count": 30,
     "metadata": {},
     "output_type": "execute_result"
    }
   ],
   "source": [
    "7/12"
   ]
  },
  {
   "cell_type": "code",
   "execution_count": 31,
   "id": "fc6c3e56-54cd-4e5f-b8c8-660860e144f8",
   "metadata": {},
   "outputs": [
    {
     "data": {
      "text/plain": [
       "0.6166666666666667"
      ]
     },
     "execution_count": 31,
     "metadata": {},
     "output_type": "execute_result"
    }
   ],
   "source": [
    "f(3)"
   ]
  },
  {
   "cell_type": "code",
   "execution_count": 32,
   "id": "417f688d-319c-4100-99d1-6f2e7b069876",
   "metadata": {},
   "outputs": [
    {
     "data": {
      "text/plain": [
       "0.6166666666666667"
      ]
     },
     "execution_count": 32,
     "metadata": {},
     "output_type": "execute_result"
    }
   ],
   "source": [
    "1/4 + 1/5 + 1/6"
   ]
  },
  {
   "cell_type": "code",
   "execution_count": null,
   "id": "f5a7e8aa-141f-4b6e-95f8-9d77be976fd5",
   "metadata": {},
   "outputs": [],
   "source": []
  }
 ],
 "metadata": {
  "kernelspec": {
   "display_name": "Python 3",
   "language": "python",
   "name": "python3"
  },
  "language_info": {
   "codemirror_mode": {
    "name": "ipython",
    "version": 3
   },
   "file_extension": ".py",
   "mimetype": "text/x-python",
   "name": "python",
   "nbconvert_exporter": "python",
   "pygments_lexer": "ipython3",
   "version": "3.9.5"
  }
 },
 "nbformat": 4,
 "nbformat_minor": 5
}
