{
 "cells": [
  {
   "cell_type": "markdown",
   "id": "19bd2d27-6231-400b-9bcf-477f99229a11",
   "metadata": {},
   "source": [
    "# Problem 1 (29 Oct 2024)\n",
    "- (Algorithmic Thinking): Loops - an introduction to pseudocode\n",
    "- (Programming): Loops - Apple Trees"
   ]
  },
  {
   "cell_type": "markdown",
   "id": "55859a57-39aa-4888-bd8c-d4be83d9a0fc",
   "metadata": {},
   "source": [
    "## Loops\n",
    "\n",
    "A **loop** is a standard thing we see all the time in computer science. One of the values that a computer has over a human is the ability to do things without ever complaining.\n",
    "\n",
    "I think the concept of a loop shouldn't suprise you. Say you have a stack of 100 papers, perhaps a very recent midterm. You, as the TA, are asked to count the number of $A$s the class got. "
   ]
  }
 ],
 "metadata": {
  "kernelspec": {
   "display_name": "Python 3",
   "language": "python",
   "name": "python3"
  },
  "language_info": {
   "codemirror_mode": {
    "name": "ipython",
    "version": 3
   },
   "file_extension": ".py",
   "mimetype": "text/x-python",
   "name": "python",
   "nbconvert_exporter": "python",
   "pygments_lexer": "ipython3",
   "version": "3.9.5"
  }
 },
 "nbformat": 4,
 "nbformat_minor": 5
}
