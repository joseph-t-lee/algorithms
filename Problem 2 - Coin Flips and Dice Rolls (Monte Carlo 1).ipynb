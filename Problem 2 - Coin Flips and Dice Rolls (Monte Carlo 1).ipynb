{
 "cells": [
  {
   "cell_type": "markdown",
   "id": "9b8e076e-e7fb-4e50-a27b-962557fa639d",
   "metadata": {},
   "source": [
    "# Problem 1 - Projectile Motion\n",
    "*This notebook teaches:*\n",
    "- Random draws.\n",
    "- Loops and if statements.\n",
    "- Plotting in matplotlib.pyplot.\n",
    "\n",
    "**Problem Statement**: This notebook has two problems.\n",
    "\n",
    "a) Imagine we have an unfair coin that has a probability of $p$ to land on heads and a probability of $1-p$ to land on tails. We want a function that takes in the number of coin flips and returns the results.\n",
    "\n",
    "b) Imagine we have an $N$ sided dice where the probability of landing on all side are equal. \n",
    "\n",
    "\n"
   ]
  },
  {
   "cell_type": "code",
   "execution_count": 3,
   "id": "186d3cd7-1592-4a13-84b0-c060073273dc",
   "metadata": {},
   "outputs": [],
   "source": [
    "# Preamble: I will include this this time, but be sure you know that you need this!\n",
    "\n",
    "import numpy as np                  # Importing as np let's us use np.(function) to call functions from numpy.\n",
    "import matplotlib.pyplot as plt     # plt is how we wil reference pyplot.\n",
    "import random as r                  # We will need this for random number draws"
   ]
  },
  {
   "cell_type": "markdown",
   "id": "a0e231bd-49de-4790-9475-ea485ced1a46",
   "metadata": {},
   "source": [
    "## Example 1 - A fair coin\n",
    "Before getting started, we will give you a sandbox that shows two key things.\n",
    "\n",
    "```r.random()``` takes in no argument but returns a number between 0 and 1. Run the block below a few times to see what happens."
   ]
  },
  {
   "cell_type": "code",
   "execution_count": 7,
   "id": "875c0a01-3072-4162-8538-f5100f21e086",
   "metadata": {},
   "outputs": [
    {
     "data": {
      "text/plain": [
       "0.49260444255042735"
      ]
     },
     "execution_count": 7,
     "metadata": {},
     "output_type": "execute_result"
    }
   ],
   "source": [
    "r.random()"
   ]
  },
  {
   "cell_type": "code",
   "execution_count": 8,
   "id": "8b4e6ce1-3792-4f81-95ca-a4cfe0647669",
   "metadata": {},
   "outputs": [],
   "source": [
    "def fair_coin(\n",
    "        trials):   \n",
    "    \"\"\"\n",
    "    Runs a bunch of simulated coin flips and returns the number of heads and number of tails.\n",
    "    \n",
    "    @Params trials: (Int) number of runs.\n",
    "    \n",
    "    @Returns numHeads: (Int) The number of heads\n",
    "    @Returns numTails: (Int) The number of tails.\n",
    "    \"\"\"\n",
    "    \n",
    "    numHeads = 0                     # Here we initialize values to be returned later.\n",
    "    numTails = 0 \n",
    "    \n",
    "    for i in range(0, trials):       # recall that range(a, b) goes from a to b-1. By starting from a=0, we iterate through b total times.\n",
    "        draw = r.random()            # Generates a random number between 0 and 1.0\n",
    "        \n",
    "        if draw > 0.5:               # If we draw above 0.5, let's say it landed on heads.\n",
    "            numHeads += 1            # increment the number of heads by 1.\n",
    "        else:                        # If the condition isn't met (not above 0.5)\n",
    "            numTails += 1            # we add once more tails.\n",
    "    \n",
    "    return numHeads, numTails\n",
    "    "
   ]
  },
  {
   "cell_type": "code",
   "execution_count": 27,
   "id": "13e26b83-8c8b-4c8d-b4a6-b87e21066b4d",
   "metadata": {},
   "outputs": [
    {
     "name": "stdout",
     "output_type": "stream",
     "text": [
      "The total number of flips are:\n",
      "5\n",
      "Total heads: 2\n",
      "Total tails: 3\n"
     ]
    },
    {
     "data": {
      "image/png": "[encoded data removed]",
      "text/plain": [
       "<Figure size 432x288 with 1 Axes>"
      ]
     },
     "metadata": {
      "needs_background": "light"
     },
     "output_type": "display_data"
    }
   ],
   "source": [
    "# This block is used for plotting.\n",
    "# Notice how when your trials count is really low, you might get some weird results. \n",
    "# But, if you also make it way too big, your code takes forever.\n",
    "# This code is pretty simple, so you won't really feel any slowdown until like ~10,000,000\n",
    "# Try 5, 10, 100, 500, 1000, 10000, 10000000.\n",
    "trials = 5\n",
    "\n",
    "\n",
    "nH, nT = fair_coin(trials)\n",
    "\n",
    "print(\"The total number of flips are:\")  # This should add up to number of trials\n",
    "print(nH + nT)\n",
    "\n",
    "print(\"Total heads: \" + str(nH))         # You can't combine strings with integers, so we convert the integers to strings with str()\n",
    "print(\"Total tails: \" + str(nT))\n",
    "\n",
    "coinResults = [nH/trials, nT/trials]     # This is called a list.\n",
    "coinLabels = [\"Heads\", \"Tails\"]          # This is a list of strings\n",
    "plt.bar(coinLabels, coinResults)\n",
    "plt.title(\"Frequency of Heads and Tails\")\n",
    "plt.show()"
   ]
  },
  {
   "cell_type": "markdown",
   "id": "ff3776d5-4b56-4efe-8ef2-5d38c0187944",
   "metadata": {},
   "source": [
    "## Problem (a): unfair_coin(p, trials)\n",
    "Create a function ```unfair_coin(p, trials)``` that returns ```nHeads, nTails```, the number of trials that resulted in heads and tails. \n"
   ]
  },
  {
   "cell_type": "code",
   "execution_count": 28,
   "id": "7d9a1368-0650-4d0c-9b63-74b50af5192a",
   "metadata": {},
   "outputs": [],
   "source": [
    "def unfair_coin(\n",
    "        p, \n",
    "        trials):   \n",
    "    \"\"\"\n",
    "    Runs a bunch of simulated coin flips and returns the number of heads and number of tails.\n",
    "    @Params p: (Float) Probability of landing on heads (p is between 0 and 1.)\n",
    "    @Params trials: (Int) number of runs.\n",
    "    \n",
    "    @Returns numHeads: (Int) The number of heads\n",
    "    @Returns numTails: (Int) The number of tails.\n",
    "    \"\"\"\n",
    "    # Your code here!\n",
    "    \n",
    "    return numHeads, numTails\n",
    "    "
   ]
  },
  {
   "cell_type": "code",
   "execution_count": 34,
   "id": "7fdf77be-e385-4e96-affa-0354640087ab",
   "metadata": {},
   "outputs": [],
   "source": [
    "# Write out some code here to print out the results as well.\n",
    "\n",
    "\n",
    "\n"
   ]
  },
  {
   "cell_type": "markdown",
   "id": "75651b59-4b17-472b-9328-419e6881d877",
   "metadata": {},
   "source": [
    "## Problem (b): dice_roll(sides, trials)\n",
    "Create a function ```dice_roll(sides, trials)``` that returns a list ```listCounts```, giving the number of times the dice landed on ```1,2,3,...,sides```.\n"
   ]
  },
  {
   "cell_type": "code",
   "execution_count": 35,
   "id": "d3c10a10-75c6-4ca3-a982-c2c599c6dfd9",
   "metadata": {},
   "outputs": [
    {
     "name": "stdout",
     "output_type": "stream",
     "text": [
      "[0, 0, 0, 0, 0]\n",
      "[0, 0, 17, 0, 0]\n"
     ]
    }
   ],
   "source": [
    "# Before starting, here is something that may help you out.\n",
    "\n",
    "N = 5\n",
    "tmp = [0] * N     # this creates a list of size N with all entries = 0\n",
    "\n",
    "print(tmp)\n",
    "\n",
    "ind = 2\n",
    "tmp[ind] = 17     # This replaces the ind-th entry with 17.\n",
    "\n",
    "print(tmp)"
   ]
  },
  {
   "cell_type": "code",
   "execution_count": null,
   "id": "a2a04923-63d9-4e7a-a9ce-2c4ac7bf87ce",
   "metadata": {},
   "outputs": [],
   "source": [
    "def dice_roll(\n",
    "        sides, \n",
    "        trials):   \n",
    "    \"\"\"\n",
    "    Runs a bunch of simulated dice rolls.\n",
    "    \n",
    "    @Params sides: (Int) The number of sides on the dice.\n",
    "    @Params trials: (Int) number of runs.\n",
    "    \n",
    "    @Returns listCounts: (list) A list with (sides) entries that return how many times the dice landed on that side.\n",
    "    \"\"\"\n",
    "    # Your code here!\n",
    "    \n",
    "    return listCounts\n",
    "    "
   ]
  },
  {
   "cell_type": "code",
   "execution_count": null,
   "id": "c3e35bde-e14e-4fa4-b37e-4d686d2952ed",
   "metadata": {},
   "outputs": [],
   "source": []
  }
 ],
 "metadata": {
  "kernelspec": {
   "display_name": "Python 3",
   "language": "python",
   "name": "python3"
  },
  "language_info": {
   "codemirror_mode": {
    "name": "ipython",
    "version": 3
   },
   "file_extension": ".py",
   "mimetype": "text/x-python",
   "name": "python",
   "nbconvert_exporter": "python",
   "pygments_lexer": "ipython3",
   "version": "3.9.5"
  }
 },
 "nbformat": 4,
 "nbformat_minor": 5
}
