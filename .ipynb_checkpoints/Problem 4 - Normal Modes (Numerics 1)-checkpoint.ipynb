{
 "cells": [
  {
   "cell_type": "markdown",
   "id": "643ca203-1eab-4fed-a366-542fa308858a",
   "metadata": {},
   "source": [
    "# Problem 4 - Normal Modes\n",
    "*This notebook teaches:*\n",
    "- Numpy arrays for Linear Algebra\n",
    "- Plotting in matplotlib.pyplot.\n",
    "\n",
    "**Problem Statement**: \n"
   ]
  },
  {
   "cell_type": "code",
   "execution_count": 2,
   "id": "57045deb-3d57-491a-b782-a925b6f3a915",
   "metadata": {},
   "outputs": [],
   "source": [
    "from numpy import linalg as LA\n",
    "import numpy as np\n",
    "import matplotlib.pyplot as plt  \n"
   ]
  },
  {
   "cell_type": "code",
   "execution_count": 29,
   "id": "b382c071-2934-4d2b-825d-40c5b2dc5d6c",
   "metadata": {},
   "outputs": [],
   "source": [
    "def normal_modes_2blocks(m, k0, k1):\n",
    "    \n",
    "    kMatrix = np.zeros([2,2])\n",
    "    kMatrix[0,0] = (k0 + k1) / m\n",
    "    kMatrix[1,1] = (k0 + k1) / m\n",
    "    kMatrix[1,0] = -k1 / m\n",
    "    kMatrix[0,1] = -k1 / m\n",
    "    \n",
    "    eVals, eVecs = LA.eig(kMatrix)\n",
    "    return eVals, eVecs\n",
    "\n",
    "\n",
    "def normal_frequencies(m, k0, k1k0RatioArray):\n",
    "    \n",
    "    gsEnergies = np.zeros(len(k1k0RatioArray))\n",
    "    firstExcitedEnergies = np.zeros(len(k1k0RatioArray))\n",
    "    \n",
    "    counter = 0\n",
    "    for k1k0Ratio in k1k0RatioArray:\n",
    "        eVals, eVecs = normal_modes_2blocks(m, k0, k1k0Ratio * k0)\n",
    "        gsEnergies[counter] = eVals[1]\n",
    "        firstExcitedEnergies[counter] = eVals[0]\n",
    "        counter += 1\n",
    "        \n",
    "    return gsEnergies, firstExcitedEnergies\n",
    "        \n",
    "    "
   ]
  },
  {
   "cell_type": "code",
   "execution_count": 30,
   "id": "b279b17a-3a5d-4963-9adc-902fcbe6d4d7",
   "metadata": {},
   "outputs": [
    {
     "data": {
      "text/plain": [
       "(array([20., 10.]),\n",
       " array([[ 0.70710678,  0.70710678],\n",
       "        [-0.70710678,  0.70710678]]))"
      ]
     },
     "execution_count": 30,
     "metadata": {},
     "output_type": "execute_result"
    }
   ],
   "source": [
    "normal_modes_2blocks(1, 10, 5)"
   ]
  },
  {
   "cell_type": "code",
   "execution_count": 31,
   "id": "be063a2f-5d73-4bac-ae49-acd93dee48ef",
   "metadata": {},
   "outputs": [],
   "source": [
    "res, res2 = normal_frequencies(1, 10, np.arange(0, 1, 0.1))"
   ]
  },
  {
   "cell_type": "code",
   "execution_count": 33,
   "id": "9a51e6c5-7681-4d28-b766-1212437438aa",
   "metadata": {},
   "outputs": [
    {
     "data": {
      "image/png": "[encoded data removed]",
      "text/plain": [
       "<Figure size 432x288 with 1 Axes>"
      ]
     },
     "metadata": {
      "needs_background": "light"
     },
     "output_type": "display_data"
    }
   ],
   "source": [
    "plt.scatter(np.arange(0, 1, 0.1), res)\n",
    "plt.scatter(np.arange(0, 1, 0.1), res2)\n",
    "plt.show()"
   ]
  },
  {
   "cell_type": "code",
   "execution_count": null,
   "id": "82957333-3e09-4b55-8352-4264657e343d",
   "metadata": {},
   "outputs": [],
   "source": []
  }
 ],
 "metadata": {
  "kernelspec": {
   "display_name": "Python 3",
   "language": "python",
   "name": "python3"
  },
  "language_info": {
   "codemirror_mode": {
    "name": "ipython",
    "version": 3
   },
   "file_extension": ".py",
   "mimetype": "text/x-python",
   "name": "python",
   "nbconvert_exporter": "python",
   "pygments_lexer": "ipython3",
   "version": "3.9.5"
  }
 },
 "nbformat": 4,
 "nbformat_minor": 5
}
