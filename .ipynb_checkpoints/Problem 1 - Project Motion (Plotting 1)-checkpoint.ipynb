{
 "cells": [
  {
   "cell_type": "markdown",
   "id": "f5fdd042-9ba7-48cf-9375-4cb8f716a3f4",
   "metadata": {},
   "source": [
    "# Problem 1 - Projectile Motion\n",
    "*This notebook teaches:*\n",
    "- Numpy arrays\n",
    "- Plotting in matplotlib.pyplot.\n",
    "\n",
    "**Problem Statement**: We've learned from intro physics that, in the presence of gravity, a particle that starts at $(x,y)=(0,0)$ being launched with a velocity $\\pmb{v} = v_x\\hat{x} + v_y\\hat{y}$, it should follow a trajectory given by\n",
    "$$ (x(t), y(t)) = (v_xt, v_yt - \\frac{gt^2}{2}).$$\n",
    "\n",
    "In this problem, you will write a function that produces a plot of these trajectories.\n"
   ]
  },
  {
   "cell_type": "markdown",
   "id": "0d2efb43-2158-4a9b-8b0b-5f610bf9f400",
   "metadata": {},
   "source": [
    "## Learning Principles\n",
    "These notebooks are intended to teach you code through problems. However, we will *not* necessarily walk you through every step. We provide some examples, but learning syntax through teaching, while useful, is often forgotten by students. You learn better by doing. **You should keep running your cells, not being afraid of whether or not you get errors. Learn by getting things wrong!**\n",
    "\n",
    "If you need any help on syntax, refer to:\n",
    "- Google\n",
    "- [Chat GPT](https://chatgpt.com/)\n",
    "- [Stack Overflow](https://stackoverflow.com/)\n",
    "\n",
    "In daily life, when code doesnt run, we often google. Just make sure whatever you learn from these things you never forget.\n",
    "\n",
    "I also ask that you build some sort of *style*. I use something along the lines of [PEP8](https://peps.python.org/pep-0008/), which can be annoying at first, but will give you some beautiful looking code.\n",
    "\n",
    "## Getting Started\n",
    "I'll assume at this point you already have python installed! We will need two additional packages to make this work.\n",
    "- numpy\n",
    "- matplotlib\n",
    "\n",
    "Install these two packages and return here. \n",
    "\n",
    "The first cell checks the python version. The next two cells import numpy and pyplot and check the versions"
   ]
  },
  {
   "cell_type": "code",
   "execution_count": 19,
   "id": "7a530cfb-f8b8-43cd-a19d-7c4e7c270d83",
   "metadata": {},
   "outputs": [
    {
     "name": "stdout",
     "output_type": "stream",
     "text": [
      "3.9.5\n"
     ]
    }
   ],
   "source": [
    "from platform import python_version\n",
    "print(python_version())"
   ]
  },
  {
   "cell_type": "code",
   "execution_count": 20,
   "id": "5bfddfe5-347b-47dc-bf6f-5077bc29436f",
   "metadata": {},
   "outputs": [
    {
     "name": "stdout",
     "output_type": "stream",
     "text": [
      "1.26.4\n",
      "3.8.3\n"
     ]
    }
   ],
   "source": [
    "import numpy as np                  # Importing as np let's us use np.(function) to call functions from numpy.\n",
    "import matplotlib\n",
    "import matplotlib.pyplot as plt     # plt is how we wil reference pyplot.\n",
    "\n",
    "print(np.__version__)\n",
    "print(matplotlib.__version__)"
   ]
  },
  {
   "cell_type": "markdown",
   "id": "c3d1c17c-2274-4268-a8b8-437a27d66dfd",
   "metadata": {},
   "source": [
    "# Before you start...\n",
    "**Advice: Before you code ANYTHING that involves any algorithm design, plan your algorithm on a blank piece of paper in pseudocode.**\n",
    "\n",
    "For example, say I want you to write a code to print all the numbers between ```a``` and ```b```. Instead of just coding right away, perhaps a plan looks like this:\n",
    "\n",
    "```\n",
    "arguments: a (integer), b (integer)\n",
    "\n",
    "for number in 1 to 10    # We need to iterate over all the numbers\n",
    "    print number         # print it.\n",
    "end\n",
    "```"
   ]
  },
  {
   "cell_type": "markdown",
   "id": "7deb78cd-6395-45eb-8bed-820563dbe801",
   "metadata": {},
   "source": [
    "## Example 1: Adder and loops\n",
    "Unlike a \"real\" python class, I won't teach you data types, functions, etc. directly. We will teach by example. See the codes below.\n",
    "\n",
    "This first function will use for loops. See the example syntax below."
   ]
  },
  {
   "cell_type": "code",
   "execution_count": 16,
   "id": "d6a16fdd-e4d6-4ca1-b469-78d664097710",
   "metadata": {},
   "outputs": [
    {
     "name": "stdout",
     "output_type": "stream",
     "text": [
      "0\n",
      "1\n",
      "2\n",
      "3\n",
      "4\n",
      "5\n",
      "6\n",
      "7\n",
      "8\n",
      "9\n"
     ]
    }
   ],
   "source": [
    "for i in range(0,10):\n",
    "    print(i)"
   ]
  },
  {
   "cell_type": "code",
   "execution_count": 28,
   "id": "bdee53de-e0f3-459c-aa20-adfe5bec3674",
   "metadata": {},
   "outputs": [],
   "source": [
    "def add_one(\n",
    "        xStart, \n",
    "        xEnd):   \n",
    "    # This is called a *function*. TO create a function, we use def FUNCTIONNAME(arguments): to start off. \n",
    "    # In Python, indentation also matters, so notice carefully the spacing between everything!\n",
    "    \"\"\"\n",
    "    Uses a for loop to print out values and also show the number of steps.\n",
    "    Also keeps count of the number of increments we do.\n",
    "    \n",
    "    @Params xStart: Starting value. Code assumes that xStart < xEnd and is an integer.\n",
    "    @Params xEnd: Ending value. Code assumes that xStart < xEnd and is an integer.\n",
    "    \n",
    "    @Returns stepCounter: (Int) The number of increments.\n",
    "    \"\"\"\n",
    "    # Any time you see a # or \"\"\" \"\"\", these are called comments.\n",
    "    # This is a way you can tell people what your code does without ruining the code itself.\n",
    "    # It's also a way to hide things away, for example: \n",
    "    # print(\"If you comment out this line (i.e. put a hash in front), it wont show up\")\n",
    "    \n",
    "    stepCounter = 0 \n",
    "    \n",
    "    for i in range(xStart, xEnd + 1):     # We do +1 here because range(xStart,xEnd) would iterate as xStart, xStart + 1, xStart + 2, ... , xEnd - 1.\n",
    "        print(\"Current number is:\")\n",
    "        print(i)\n",
    "        stepCounter += 1                  # Variable+=1 is the same as Variable = Variable + 1. You should read this as the *label* (Variable) get's reassigned to Variable + 1.\n",
    "    \n",
    "    print(\"Total number of steps: \")\n",
    "    print(stepCounter)\n",
    "    \n",
    "    return stepCounter\n",
    "    "
   ]
  },
  {
   "cell_type": "code",
   "execution_count": 12,
   "id": "6d5d9b20-a5c4-4232-8b5d-e0bc0a4c8ad6",
   "metadata": {},
   "outputs": [
    {
     "name": "stdout",
     "output_type": "stream",
     "text": [
      "Current number is:\n",
      "2\n",
      "Current number is:\n",
      "3\n",
      "Current number is:\n",
      "4\n",
      "Current number is:\n",
      "5\n",
      "Current number is:\n",
      "6\n",
      "Current number is:\n",
      "7\n",
      "Current number is:\n",
      "8\n",
      "Current number is:\n",
      "9\n",
      "Current number is:\n",
      "10\n",
      "Current number is:\n",
      "11\n",
      "Current number is:\n",
      "12\n",
      "Current number is:\n",
      "13\n",
      "Current number is:\n",
      "14\n",
      "Current number is:\n",
      "15\n",
      "Current number is:\n",
      "16\n",
      "Current number is:\n",
      "17\n",
      "Total number of steps: \n",
      "16\n"
     ]
    },
    {
     "data": {
      "text/plain": [
       "16"
      ]
     },
     "execution_count": 12,
     "metadata": {},
     "output_type": "execute_result"
    }
   ],
   "source": [
    "# Let's test.\n",
    "\n",
    "# Choose your arguments here\n",
    "xStart = 2\n",
    "xEnd = 17\n",
    "\n",
    "add_one(xStart, xEnd)"
   ]
  },
  {
   "cell_type": "markdown",
   "id": "df363964-53d5-4292-96db-6842b8eb2c6b",
   "metadata": {},
   "source": [
    "## Practice Problem 1: add_two(xStart, xEnd)\n",
    "Create a function ```add_two(xStart, xEnd)``` that prints out the numbers ```xStart, xStart + 2, xStart + 4,...```\n",
    "Since it's possible that ```xEnd - xStart``` is not divisible by two, make the last number printed the largest number less than or equal to ```xEnd``` that can be written as ```xStart + 2n``` for some integer ```n```.\n",
    "\n",
    "*Hint: I might recommend trying this with a ```while``` loop. See example below.*"
   ]
  },
  {
   "cell_type": "code",
   "execution_count": 27,
   "id": "603de481-4e3e-4dcd-b547-975bf9a1797c",
   "metadata": {},
   "outputs": [
    {
     "name": "stdout",
     "output_type": "stream",
     "text": [
      "1\n",
      "2\n",
      "3\n",
      "4\n"
     ]
    }
   ],
   "source": [
    "def while_example(\n",
    "        a, \n",
    "        b):\n",
    "    \"\"\"\n",
    "    While loop example.\n",
    "    @Params a: number that will be incremented by 1.\n",
    "    @Params b: cutoff to start printing.\n",
    "    \"\"\"\n",
    "    while a < b:     # This loop is broken once a is greater than or equal to b.\n",
    "        print(a)     # Print the current a.\n",
    "        a += 1       # Increment a by one.\n",
    "    return\n",
    "\n",
    "while_example(1,5)"
   ]
  },
  {
   "cell_type": "code",
   "execution_count": null,
   "id": "9445e683-3356-478e-b480-9b357efb6dab",
   "metadata": {},
   "outputs": [],
   "source": [
    "def add_two(\n",
    "        xStart, \n",
    "        xEnd):\n",
    "    \"\"\"\n",
    "    Starting from xStart, prints out all numbers increasing by two, ending at the last number less than or equal to xEnd.\n",
    "    Also, keeps count of the number of increments we do.\n",
    "    @Params xStart: (Int) number that will be incremented by 2.\n",
    "    @Params xEnd: (Int) cutoff to start printing.\n",
    "    \n",
    "    @Returns stepCounter: (Int) The number of increments.\n",
    "    \"\"\"\n",
    "    stepCounter = 0\n",
    "    \n",
    "    # Your code goes here.\n",
    "    \n",
    "    \n",
    "    \n",
    "    return stepCounter"
   ]
  },
  {
   "cell_type": "code",
   "execution_count": null,
   "id": "e69e3680-6ad8-459d-84d4-5b41aa1108fc",
   "metadata": {},
   "outputs": [],
   "source": []
  },
  {
   "cell_type": "code",
   "execution_count": null,
   "id": "86bf5fae-9122-4f74-97df-d40c9c2cf6da",
   "metadata": {},
   "outputs": [],
   "source": []
  },
  {
   "cell_type": "markdown",
   "id": "baf3c637-f16b-4b71-b1f3-b1577324b090",
   "metadata": {},
   "source": [
    "## Example 2: Plotting the function y = ax+b\n",
    "\n"
   ]
  },
  {
   "cell_type": "code",
   "execution_count": 30,
   "id": "d96e95a0-ae7f-47b0-8d3e-cd3f38a4f2ba",
   "metadata": {},
   "outputs": [],
   "source": [
    "def line(\n",
    "        a, \n",
    "        b, \n",
    "        x0, dx, xN):\n",
    "    \"\"\"\n",
    "    Takes in parameters for a line and the range for x values and returns y = ax + b.\n",
    "    @Params a: (Float)\n",
    "    @Params b: (Float)\n",
    "    @Params x0: (Float)\n",
    "    @Params dx:\n",
    "    @Params xN: (Float)\n",
    "    \n",
    "    @Returns xValues: (np array)\n",
    "    @Returns yValues: (np array)\n",
    "    \"\"\"\n",
    "    xValues = np.arange(x0, xN, dx)     # np.arange returns an array of the values\n",
    "    print(\"Example of arange:\")         # You can comment out this line and the line below once you've seen what it does.\n",
    "    print(xValues)\n",
    "    \n",
    "    yValues = a * xValues + b           # You can multiple a whole array by a constant. Adding +b (since it's a number), numpy will add b to every element in the array.\n",
    "    \n",
    "    return xValues, yValues             # This returns two things.           \n"
   ]
  },
  {
   "cell_type": "code",
   "execution_count": 41,
   "id": "0bc2a0f2-ad3a-443b-9984-376bc8220b94",
   "metadata": {},
   "outputs": [
    {
     "name": "stdout",
     "output_type": "stream",
     "text": [
      "Example of arange:\n",
      "[0. 1. 2. 3. 4.]\n"
     ]
    },
    {
     "data": {
      "image/png": "[encoded data removed]",
      "text/plain": [
       "<Figure size 432x288 with 1 Axes>"
      ]
     },
     "metadata": {
      "needs_background": "light"
     },
     "output_type": "display_data"
    }
   ],
   "source": [
    "a = 5\n",
    "b = -2\n",
    "x0 = 0.0\n",
    "dx = 1.0\n",
    "xN = 5.0\n",
    "\n",
    "xVals, yVals = line(a, b, x0, dx, xN)    # This assigns the returned x and y values to xVals and yVals. I changed the variable names here so you can see the difference.\n",
    "\n",
    "\n",
    "# Jupyter Notebooks allows us to display plots within the notebook.\n",
    "\n",
    "plt.scatter(xValues, yValues)            # Makes a scatter plot.\n",
    "plt.title(\"Line Example\")                # Sets a title\n",
    "plt.xlabel(\"x values\")                   # Sets x axis label\n",
    "plt.ylabel(\"y values\")                   # Sets y axis label\n",
    "plt.show()                               # shows the plot."
   ]
  },
  {
   "cell_type": "markdown",
   "id": "aae5a350-37f2-4125-9a55-186478bd6348",
   "metadata": {},
   "source": [
    "## Practice Problem 2: quadratic(a, b, c, x0, dx, xN)\n",
    "Create a function ```quadratic(a, b, c, x0, dx, xN)``` that returns the values for the equation ```y = ax^2 + bx + c``` for the values in ```x0, x0 + dx, x0 + 2dx, ...```.\n",
    "\n"
   ]
  },
  {
   "cell_type": "code",
   "execution_count": null,
   "id": "177d2067-b516-44d6-a235-e5d13dccfa7f",
   "metadata": {},
   "outputs": [],
   "source": [
    "def quadratic(\n",
    "        a, \n",
    "        b, \n",
    "        c,\n",
    "        x0, dx, xN):\n",
    "    \"\"\"\n",
    "    Takes in parameters for a line and the range for x values and returns y = ax + b.\n",
    "    @Params a: (Float)\n",
    "    @Params b: (Float)\n",
    "    @Params c:\n",
    "    @Params x0: (Float)\n",
    "    @Params dx:\n",
    "    @Params xN: (Float)\n",
    "    \n",
    "    @Returns xValues: (np array)\n",
    "    @Returns yValues: (np array)\n",
    "    \"\"\"\n",
    "    # Your code here.\n",
    "    \n",
    "    \n",
    "    return xValues, yValues             # This returns two things.           \n"
   ]
  },
  {
   "cell_type": "markdown",
   "id": "6aec944a-f4d3-4b96-862f-822e14d9f586",
   "metadata": {},
   "source": [
    "# Problem: Projectile Motion\n",
    "\n",
    "We've learned from intro physics that, in the presence of gravity, a particle that starts at $(x,y)=(0,0)$ being launched with a velocity $\\pmb{v} = v_x\\hat{x} + v_y\\hat{y}$, it should follow a trajectory given by\n",
    "$$ (x(t), y(t)) = (v_xt, v_yt - \\frac{gt^2}{2}).$$\n",
    "\n",
    "Write a function ```projectile_motion(vx, vy, t0, dt, tN)``` that returns scatter plot points for the ```(x,y)``` position of the projectile for each time step.\n"
   ]
  },
  {
   "cell_type": "code",
   "execution_count": null,
   "id": "b7398835-da48-463e-bf5b-c6346eaa21ae",
   "metadata": {},
   "outputs": [],
   "source": [
    "def projectile_motion(\n",
    "    vx,\n",
    "    vy,\n",
    "    t0,\n",
    "    dt,\n",
    "    tN):\n",
    "    \"\"\"\n",
    "    Function that returns x and y values for projectile motion.\n",
    "    @Params vx: (Float) Initial x velocity.\n",
    "    @Params vy: (Float) Initial y velocity.\n",
    "    @Params t0: (Float) Start time.\n",
    "    @Params dt: (Float) time step.\n",
    "    @Params tN: (Float) End time.\n",
    "    \n",
    "    @Returns xValues: (np array) x coordinates corresponding to all the time steps.\n",
    "    @Returns yValues: (np array) y coordinates corresponding to all the time steps.\n",
    "    \"\"\"\n",
    "    # Your code here.\n",
    "    g = 9.8.               # I might recommend pre-defining gravity like this.\n",
    "    \n",
    "    \n",
    "    return xValues, yValues\n",
    "\n",
    "\n"
   ]
  },
  {
   "cell_type": "code",
   "execution_count": null,
   "id": "42f65f53-82b5-4445-bec2-845faa10a3e7",
   "metadata": {},
   "outputs": [],
   "source": [
    "# Test block\n",
    "\n",
    "vx = \n",
    "vy = \n",
    "t0 = \n",
    "dt = \n",
    "tN = \n",
    "\n",
    "xVals, yVals = projectile_motion(vx, vy, t0, dt, tN)\n",
    "\n",
    "plt.scatter(xValues, yValues)            # Makes a scatter plot.\n",
    "plt.title(\"Projetile Motion\")            # Sets a title\n",
    "plt.xlabel(\"x values\")                   # Sets x axis label\n",
    "plt.ylabel(\"y values\")                   # Sets y axis label\n",
    "plt.show()                               # shows the plot."
   ]
  }
 ],
 "metadata": {
  "kernelspec": {
   "display_name": "Python 3",
   "language": "python",
   "name": "python3"
  },
  "language_info": {
   "codemirror_mode": {
    "name": "ipython",
    "version": 3
   },
   "file_extension": ".py",
   "mimetype": "text/x-python",
   "name": "python",
   "nbconvert_exporter": "python",
   "pygments_lexer": "ipython3",
   "version": "3.9.5"
  }
 },
 "nbformat": 4,
 "nbformat_minor": 5
}
