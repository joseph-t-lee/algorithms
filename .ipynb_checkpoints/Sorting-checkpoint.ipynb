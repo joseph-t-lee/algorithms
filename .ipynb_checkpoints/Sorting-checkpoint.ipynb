{
 "cells": [
  {
   "cell_type": "markdown",
   "id": "1b9c522b-c4fe-4867-9566-2970cbb4c63e",
   "metadata": {},
   "source": [
    "# Sorting Algorithms\n",
    "\n",
    "- 1) Bubble Sort\n",
    "- 2) Heap sort"
   ]
  },
  {
   "cell_type": "markdown",
   "id": "f9f72fc2-ee21-4307-8021-9c47ce3dade8",
   "metadata": {},
   "source": [
    "## Bubble Sort\n",
    "\n"
   ]
  },
  {
   "cell_type": "code",
   "execution_count": 21,
   "id": "42749b55-cc57-466e-8ebb-ed1c6fe4b7ee",
   "metadata": {},
   "outputs": [],
   "source": [
    "function BubbleSort(data::Array)\n",
    "    ArraySize = size(data)[1]; \n",
    "    for j in reverse(1:ArraySize);\n",
    "        for i in 1:(j-1);\n",
    "            if data[i] > data[i+1];\n",
    "                data[i], data[i+1] = data[i+1], data[i];        # This is one way you can swap entries. \n",
    "            end;\n",
    "        end;\n",
    "    end;\n",
    "    return data\n",
    "end;\n"
   ]
  },
  {
   "cell_type": "code",
   "execution_count": 22,
   "id": "8617f2d5-7dce-4912-b51f-f003539e7488",
   "metadata": {},
   "outputs": [
    {
     "data": {
      "text/plain": [
       "12-element Vector{Int64}:\n",
       "   1\n",
       "   3\n",
       "   3\n",
       "   4\n",
       "   4\n",
       "   5\n",
       "   6\n",
       "   7\n",
       "   7\n",
       "  10\n",
       "  11\n",
       " 231"
      ]
     },
     "execution_count": 22,
     "metadata": {},
     "output_type": "execute_result"
    }
   ],
   "source": [
    "# Test Case\n",
    "\n",
    "arr = [3,4,5,6,7,1,4,7,10,11,231,3]\n",
    "BubbleSort(arr)"
   ]
  },
  {
   "cell_type": "code",
   "execution_count": null,
   "id": "10a3ad94-6703-478e-8b3c-a825e70bfc14",
   "metadata": {},
   "outputs": [],
   "source": []
  },
  {
   "cell_type": "code",
   "execution_count": null,
   "id": "e99138b7-b954-4465-ac35-e71e9ea45a17",
   "metadata": {},
   "outputs": [],
   "source": []
  },
  {
   "cell_type": "code",
   "execution_count": null,
   "id": "35c98446-d189-4d2c-bbed-cd85ef6fb7a1",
   "metadata": {},
   "outputs": [],
   "source": []
  },
  {
   "cell_type": "code",
   "execution_count": 1,
   "id": "e383eb18-4a9d-4da9-a648-5f60ec829662",
   "metadata": {},
   "outputs": [],
   "source": [
    "mutable struct MaxHeap\n",
    "    \"\"\"\n",
    "    MaxHeap Struct. \n",
    "    We can find the two leaves of the parent node by taking the parent node, i, and returning 2i and 2i+1.\n",
    "    \"\"\"\n",
    "    data::Array\n",
    "end"
   ]
  },
  {
   "cell_type": "code",
   "execution_count": null,
   "id": "7fff7d7e-b731-4edf-9d15-d2802e1560cc",
   "metadata": {},
   "outputs": [],
   "source": [
    "function HeapVisualization(MaxHeap)\n",
    "    \"\"\"\n",
    "    Takes a MaxHeap and prints the data out.\n",
    "    \"\"\"\n",
    "    \n",
    "end"
   ]
  },
  {
   "cell_type": "code",
   "execution_count": null,
   "id": "e0e91799-af6a-4edc-b8a6-2afb185368b4",
   "metadata": {},
   "outputs": [],
   "source": []
  },
  {
   "cell_type": "code",
   "execution_count": null,
   "id": "39519e60-d5ba-42ea-b2ae-3c993f9007d9",
   "metadata": {},
   "outputs": [],
   "source": []
  }
 ],
 "metadata": {
  "kernelspec": {
   "display_name": "Julia 1.6.2",
   "language": "julia",
   "name": "julia-1.6"
  },
  "language_info": {
   "file_extension": ".jl",
   "mimetype": "application/julia",
   "name": "julia",
   "version": "1.6.2"
  }
 },
 "nbformat": 4,
 "nbformat_minor": 5
}
