{
 "cells": [
  {
   "cell_type": "markdown",
   "id": "9530bf61-7860-420c-be96-4aba5156a069",
   "metadata": {},
   "source": [
    "# Problem 3 - Estimation of Pi\n",
    "*This notebook teaches:*\n",
    "- Random draws.\n",
    "- Plotting in matplotlib.pyplot.\n",
    "\n",
    "**Problem Statement**: Consider a square of side length $2L$ and a circle with diameter $2L$. Use this information to devise a way to estimate $\\pi$ using Monte Carlo Methods.\n",
    "\n",
    "\n",
    "\n",
    "## Some helpful background\n",
    "First, notice that in the above setup, the square has area $4L^2$ and the circle has area $\\pi L^2$. We then have that\n",
    "$$ \\frac{\\text{Circle Area}}{\\text{Square Area}} = \\frac{\\pi}{4}.$$\n",
    "\n",
    "\n",
    "Imagine you had a square dart board with a circle inscribed within it. If you were a perfectly random dart throwing (limited by the situation in which all the darts land on the board), you could count the number of darts that land in the circle and the number of darts that are outside the circle. Then, we should have that\n",
    "\n",
    "$$ \\frac{\\text{Darts in Circle}}{\\text{Darts Thrown}} \\approx \\frac{\\pi}{4}.$$\n",
    "\n",
    "Before starting this notebook, plan out your algorithm!\n",
    "\n"
   ]
  },
  {
   "cell_type": "markdown",
   "id": "8d6116ba-5627-4af1-816e-59879df82590",
   "metadata": {},
   "source": [
    "## Problem: estimate_pi(trials)\n",
    "\n",
    "Write a function ```estimate_pi(trials)``` which takes in the number of trials and outputs an estimate for $\\pi$.\n",
    "\n",
    "For this problem, I provide you nothing else! Write the function and documentation as you please."
   ]
  },
  {
   "cell_type": "code",
   "execution_count": null,
   "id": "dd513cd9-065f-47fa-a337-094e565b4da9",
   "metadata": {},
   "outputs": [],
   "source": [
    "# Your code here!"
   ]
  }
 ],
 "metadata": {
  "kernelspec": {
   "display_name": "Python 3",
   "language": "python",
   "name": "python3"
  },
  "language_info": {
   "codemirror_mode": {
    "name": "ipython",
    "version": 3
   },
   "file_extension": ".py",
   "mimetype": "text/x-python",
   "name": "python",
   "nbconvert_exporter": "python",
   "pygments_lexer": "ipython3",
   "version": "3.9.5"
  }
 },
 "nbformat": 4,
 "nbformat_minor": 5
}
